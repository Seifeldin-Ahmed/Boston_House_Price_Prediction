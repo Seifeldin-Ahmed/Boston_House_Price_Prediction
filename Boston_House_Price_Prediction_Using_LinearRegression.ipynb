{
 "cells": [
  {
   "cell_type": "code",
   "execution_count": 84,
   "metadata": {
    "execution": {
     "iopub.execute_input": "2023-04-28T23:13:20.155828Z",
     "iopub.status.busy": "2023-04-28T23:13:20.154588Z",
     "iopub.status.idle": "2023-04-28T23:13:31.576829Z",
     "shell.execute_reply": "2023-04-28T23:13:31.575332Z",
     "shell.execute_reply.started": "2023-04-28T23:13:20.155765Z"
    },
    "id": "X-z0N36p7QRI"
   },
   "outputs": [],
   "source": [
    "import pandas as pd\n",
    "import matplotlib.pyplot as plt  \n",
    "import numpy as np\n",
    "from tensorflow import keras\n",
    "from keras.datasets import boston_housing\n",
    "from sklearn import linear_model\n",
    "from sklearn.linear_model import LinearRegression\n",
    "from sklearn.preprocessing import StandardScaler, PolynomialFeatures\n",
    "from sklearn.model_selection import train_test_split\n",
    "from sklearn.metrics import mean_squared_error\n",
    "from sklearn.metrics import r2_score"
   ]
  },
  {
   "cell_type": "code",
   "execution_count": 85,
   "metadata": {
    "colab": {
     "base_uri": "https://localhost:8080/"
    },
    "execution": {
     "iopub.execute_input": "2023-04-28T23:13:31.580138Z",
     "iopub.status.busy": "2023-04-28T23:13:31.579201Z",
     "iopub.status.idle": "2023-04-28T23:13:31.674507Z",
     "shell.execute_reply": "2023-04-28T23:13:31.673113Z",
     "shell.execute_reply.started": "2023-04-28T23:13:31.580088Z"
    },
    "id": "9FxGZGMp7U9R",
    "outputId": "46cd79a2-8ea5-4ae2-a8f0-088c4bcb7e6f"
   },
   "outputs": [],
   "source": [
    "(X, Y), (x_test, y_test) = boston_housing.load_data()"
   ]
  },
  {
   "cell_type": "code",
   "execution_count": 3,
   "metadata": {},
   "outputs": [
    {
     "name": "stdout",
     "output_type": "stream",
     "text": [
      "shape of X:  (404, 13)\n",
      "shape of Y:  (404,)\n",
      "shape of x_test: (102, 13)\n",
      "shape of y_test: (102,)\n"
     ]
    }
   ],
   "source": [
    "print(\"shape of X: \",X.shape)\n",
    "print(\"shape of Y: \",Y.shape)\n",
    "\n",
    "print(\"shape of x_test:\",x_test.shape)\n",
    "print(\"shape of y_test:\",y_test.shape)"
   ]
  },
  {
   "cell_type": "code",
   "execution_count": 4,
   "metadata": {
    "colab": {
     "base_uri": "https://localhost:8080/",
     "height": 423
    },
    "execution": {
     "iopub.execute_input": "2023-04-28T23:13:31.676852Z",
     "iopub.status.busy": "2023-04-28T23:13:31.676409Z",
     "iopub.status.idle": "2023-04-28T23:13:31.726769Z",
     "shell.execute_reply": "2023-04-28T23:13:31.725398Z",
     "shell.execute_reply.started": "2023-04-28T23:13:31.676813Z"
    },
    "id": "BXCCqCA--EGH",
    "outputId": "2c98ef65-a661-4660-e18a-59ad721c63ec"
   },
   "outputs": [
    {
     "data": {
      "text/html": [
       "<div>\n",
       "<style scoped>\n",
       "    .dataframe tbody tr th:only-of-type {\n",
       "        vertical-align: middle;\n",
       "    }\n",
       "\n",
       "    .dataframe tbody tr th {\n",
       "        vertical-align: top;\n",
       "    }\n",
       "\n",
       "    .dataframe thead th {\n",
       "        text-align: right;\n",
       "    }\n",
       "</style>\n",
       "<table border=\"1\" class=\"dataframe\">\n",
       "  <thead>\n",
       "    <tr style=\"text-align: right;\">\n",
       "      <th></th>\n",
       "      <th>0</th>\n",
       "      <th>1</th>\n",
       "      <th>2</th>\n",
       "      <th>3</th>\n",
       "      <th>4</th>\n",
       "      <th>5</th>\n",
       "      <th>6</th>\n",
       "      <th>7</th>\n",
       "      <th>8</th>\n",
       "      <th>9</th>\n",
       "      <th>10</th>\n",
       "      <th>11</th>\n",
       "      <th>12</th>\n",
       "    </tr>\n",
       "  </thead>\n",
       "  <tbody>\n",
       "    <tr>\n",
       "      <th>0</th>\n",
       "      <td>1.23247</td>\n",
       "      <td>0.0</td>\n",
       "      <td>8.14</td>\n",
       "      <td>0.0</td>\n",
       "      <td>0.5380</td>\n",
       "      <td>6.142</td>\n",
       "      <td>91.7</td>\n",
       "      <td>3.9769</td>\n",
       "      <td>4.0</td>\n",
       "      <td>307.0</td>\n",
       "      <td>21.0</td>\n",
       "      <td>396.90</td>\n",
       "      <td>18.72</td>\n",
       "    </tr>\n",
       "    <tr>\n",
       "      <th>1</th>\n",
       "      <td>0.02177</td>\n",
       "      <td>82.5</td>\n",
       "      <td>2.03</td>\n",
       "      <td>0.0</td>\n",
       "      <td>0.4150</td>\n",
       "      <td>7.610</td>\n",
       "      <td>15.7</td>\n",
       "      <td>6.2700</td>\n",
       "      <td>2.0</td>\n",
       "      <td>348.0</td>\n",
       "      <td>14.7</td>\n",
       "      <td>395.38</td>\n",
       "      <td>3.11</td>\n",
       "    </tr>\n",
       "    <tr>\n",
       "      <th>2</th>\n",
       "      <td>4.89822</td>\n",
       "      <td>0.0</td>\n",
       "      <td>18.10</td>\n",
       "      <td>0.0</td>\n",
       "      <td>0.6310</td>\n",
       "      <td>4.970</td>\n",
       "      <td>100.0</td>\n",
       "      <td>1.3325</td>\n",
       "      <td>24.0</td>\n",
       "      <td>666.0</td>\n",
       "      <td>20.2</td>\n",
       "      <td>375.52</td>\n",
       "      <td>3.26</td>\n",
       "    </tr>\n",
       "    <tr>\n",
       "      <th>3</th>\n",
       "      <td>0.03961</td>\n",
       "      <td>0.0</td>\n",
       "      <td>5.19</td>\n",
       "      <td>0.0</td>\n",
       "      <td>0.5150</td>\n",
       "      <td>6.037</td>\n",
       "      <td>34.5</td>\n",
       "      <td>5.9853</td>\n",
       "      <td>5.0</td>\n",
       "      <td>224.0</td>\n",
       "      <td>20.2</td>\n",
       "      <td>396.90</td>\n",
       "      <td>8.01</td>\n",
       "    </tr>\n",
       "    <tr>\n",
       "      <th>4</th>\n",
       "      <td>3.69311</td>\n",
       "      <td>0.0</td>\n",
       "      <td>18.10</td>\n",
       "      <td>0.0</td>\n",
       "      <td>0.7130</td>\n",
       "      <td>6.376</td>\n",
       "      <td>88.4</td>\n",
       "      <td>2.5671</td>\n",
       "      <td>24.0</td>\n",
       "      <td>666.0</td>\n",
       "      <td>20.2</td>\n",
       "      <td>391.43</td>\n",
       "      <td>14.65</td>\n",
       "    </tr>\n",
       "    <tr>\n",
       "      <th>...</th>\n",
       "      <td>...</td>\n",
       "      <td>...</td>\n",
       "      <td>...</td>\n",
       "      <td>...</td>\n",
       "      <td>...</td>\n",
       "      <td>...</td>\n",
       "      <td>...</td>\n",
       "      <td>...</td>\n",
       "      <td>...</td>\n",
       "      <td>...</td>\n",
       "      <td>...</td>\n",
       "      <td>...</td>\n",
       "      <td>...</td>\n",
       "    </tr>\n",
       "    <tr>\n",
       "      <th>399</th>\n",
       "      <td>0.21977</td>\n",
       "      <td>0.0</td>\n",
       "      <td>6.91</td>\n",
       "      <td>0.0</td>\n",
       "      <td>0.4480</td>\n",
       "      <td>5.602</td>\n",
       "      <td>62.0</td>\n",
       "      <td>6.0877</td>\n",
       "      <td>3.0</td>\n",
       "      <td>233.0</td>\n",
       "      <td>17.9</td>\n",
       "      <td>396.90</td>\n",
       "      <td>16.20</td>\n",
       "    </tr>\n",
       "    <tr>\n",
       "      <th>400</th>\n",
       "      <td>0.16211</td>\n",
       "      <td>20.0</td>\n",
       "      <td>6.96</td>\n",
       "      <td>0.0</td>\n",
       "      <td>0.4640</td>\n",
       "      <td>6.240</td>\n",
       "      <td>16.3</td>\n",
       "      <td>4.4290</td>\n",
       "      <td>3.0</td>\n",
       "      <td>223.0</td>\n",
       "      <td>18.6</td>\n",
       "      <td>396.90</td>\n",
       "      <td>6.59</td>\n",
       "    </tr>\n",
       "    <tr>\n",
       "      <th>401</th>\n",
       "      <td>0.03466</td>\n",
       "      <td>35.0</td>\n",
       "      <td>6.06</td>\n",
       "      <td>0.0</td>\n",
       "      <td>0.4379</td>\n",
       "      <td>6.031</td>\n",
       "      <td>23.3</td>\n",
       "      <td>6.6407</td>\n",
       "      <td>1.0</td>\n",
       "      <td>304.0</td>\n",
       "      <td>16.9</td>\n",
       "      <td>362.25</td>\n",
       "      <td>7.83</td>\n",
       "    </tr>\n",
       "    <tr>\n",
       "      <th>402</th>\n",
       "      <td>2.14918</td>\n",
       "      <td>0.0</td>\n",
       "      <td>19.58</td>\n",
       "      <td>0.0</td>\n",
       "      <td>0.8710</td>\n",
       "      <td>5.709</td>\n",
       "      <td>98.5</td>\n",
       "      <td>1.6232</td>\n",
       "      <td>5.0</td>\n",
       "      <td>403.0</td>\n",
       "      <td>14.7</td>\n",
       "      <td>261.95</td>\n",
       "      <td>15.79</td>\n",
       "    </tr>\n",
       "    <tr>\n",
       "      <th>403</th>\n",
       "      <td>0.01439</td>\n",
       "      <td>60.0</td>\n",
       "      <td>2.93</td>\n",
       "      <td>0.0</td>\n",
       "      <td>0.4010</td>\n",
       "      <td>6.604</td>\n",
       "      <td>18.8</td>\n",
       "      <td>6.2196</td>\n",
       "      <td>1.0</td>\n",
       "      <td>265.0</td>\n",
       "      <td>15.6</td>\n",
       "      <td>376.70</td>\n",
       "      <td>4.38</td>\n",
       "    </tr>\n",
       "  </tbody>\n",
       "</table>\n",
       "<p>404 rows × 13 columns</p>\n",
       "</div>"
      ],
      "text/plain": [
       "          0     1      2    3       4      5      6       7     8      9   \\\n",
       "0    1.23247   0.0   8.14  0.0  0.5380  6.142   91.7  3.9769   4.0  307.0   \n",
       "1    0.02177  82.5   2.03  0.0  0.4150  7.610   15.7  6.2700   2.0  348.0   \n",
       "2    4.89822   0.0  18.10  0.0  0.6310  4.970  100.0  1.3325  24.0  666.0   \n",
       "3    0.03961   0.0   5.19  0.0  0.5150  6.037   34.5  5.9853   5.0  224.0   \n",
       "4    3.69311   0.0  18.10  0.0  0.7130  6.376   88.4  2.5671  24.0  666.0   \n",
       "..       ...   ...    ...  ...     ...    ...    ...     ...   ...    ...   \n",
       "399  0.21977   0.0   6.91  0.0  0.4480  5.602   62.0  6.0877   3.0  233.0   \n",
       "400  0.16211  20.0   6.96  0.0  0.4640  6.240   16.3  4.4290   3.0  223.0   \n",
       "401  0.03466  35.0   6.06  0.0  0.4379  6.031   23.3  6.6407   1.0  304.0   \n",
       "402  2.14918   0.0  19.58  0.0  0.8710  5.709   98.5  1.6232   5.0  403.0   \n",
       "403  0.01439  60.0   2.93  0.0  0.4010  6.604   18.8  6.2196   1.0  265.0   \n",
       "\n",
       "       10      11     12  \n",
       "0    21.0  396.90  18.72  \n",
       "1    14.7  395.38   3.11  \n",
       "2    20.2  375.52   3.26  \n",
       "3    20.2  396.90   8.01  \n",
       "4    20.2  391.43  14.65  \n",
       "..    ...     ...    ...  \n",
       "399  17.9  396.90  16.20  \n",
       "400  18.6  396.90   6.59  \n",
       "401  16.9  362.25   7.83  \n",
       "402  14.7  261.95  15.79  \n",
       "403  15.6  376.70   4.38  \n",
       "\n",
       "[404 rows x 13 columns]"
      ]
     },
     "execution_count": 4,
     "metadata": {},
     "output_type": "execute_result"
    }
   ],
   "source": [
    "pd.DataFrame(X)"
   ]
  },
  {
   "cell_type": "code",
   "execution_count": 5,
   "metadata": {
    "colab": {
     "base_uri": "https://localhost:8080/",
     "height": 423
    },
    "execution": {
     "iopub.execute_input": "2023-04-28T23:13:31.731367Z",
     "iopub.status.busy": "2023-04-28T23:13:31.730354Z",
     "iopub.status.idle": "2023-04-28T23:13:31.747230Z",
     "shell.execute_reply": "2023-04-28T23:13:31.745604Z",
     "shell.execute_reply.started": "2023-04-28T23:13:31.731302Z"
    },
    "id": "EZoULRFd-sOK",
    "outputId": "2edf1150-a52f-477c-8895-83376a9c2357"
   },
   "outputs": [
    {
     "data": {
      "text/html": [
       "<div>\n",
       "<style scoped>\n",
       "    .dataframe tbody tr th:only-of-type {\n",
       "        vertical-align: middle;\n",
       "    }\n",
       "\n",
       "    .dataframe tbody tr th {\n",
       "        vertical-align: top;\n",
       "    }\n",
       "\n",
       "    .dataframe thead th {\n",
       "        text-align: right;\n",
       "    }\n",
       "</style>\n",
       "<table border=\"1\" class=\"dataframe\">\n",
       "  <thead>\n",
       "    <tr style=\"text-align: right;\">\n",
       "      <th></th>\n",
       "      <th>0</th>\n",
       "    </tr>\n",
       "  </thead>\n",
       "  <tbody>\n",
       "    <tr>\n",
       "      <th>0</th>\n",
       "      <td>15.2</td>\n",
       "    </tr>\n",
       "    <tr>\n",
       "      <th>1</th>\n",
       "      <td>42.3</td>\n",
       "    </tr>\n",
       "    <tr>\n",
       "      <th>2</th>\n",
       "      <td>50.0</td>\n",
       "    </tr>\n",
       "    <tr>\n",
       "      <th>3</th>\n",
       "      <td>21.1</td>\n",
       "    </tr>\n",
       "    <tr>\n",
       "      <th>4</th>\n",
       "      <td>17.7</td>\n",
       "    </tr>\n",
       "    <tr>\n",
       "      <th>...</th>\n",
       "      <td>...</td>\n",
       "    </tr>\n",
       "    <tr>\n",
       "      <th>399</th>\n",
       "      <td>19.4</td>\n",
       "    </tr>\n",
       "    <tr>\n",
       "      <th>400</th>\n",
       "      <td>25.2</td>\n",
       "    </tr>\n",
       "    <tr>\n",
       "      <th>401</th>\n",
       "      <td>19.4</td>\n",
       "    </tr>\n",
       "    <tr>\n",
       "      <th>402</th>\n",
       "      <td>19.4</td>\n",
       "    </tr>\n",
       "    <tr>\n",
       "      <th>403</th>\n",
       "      <td>29.1</td>\n",
       "    </tr>\n",
       "  </tbody>\n",
       "</table>\n",
       "<p>404 rows × 1 columns</p>\n",
       "</div>"
      ],
      "text/plain": [
       "        0\n",
       "0    15.2\n",
       "1    42.3\n",
       "2    50.0\n",
       "3    21.1\n",
       "4    17.7\n",
       "..    ...\n",
       "399  19.4\n",
       "400  25.2\n",
       "401  19.4\n",
       "402  19.4\n",
       "403  29.1\n",
       "\n",
       "[404 rows x 1 columns]"
      ]
     },
     "execution_count": 5,
     "metadata": {},
     "output_type": "execute_result"
    }
   ],
   "source": [
    "pd.DataFrame(Y)"
   ]
  },
  {
   "cell_type": "code",
   "execution_count": 76,
   "metadata": {
    "execution": {
     "iopub.execute_input": "2023-04-28T23:13:31.774685Z",
     "iopub.status.busy": "2023-04-28T23:13:31.774296Z",
     "iopub.status.idle": "2023-04-28T23:13:31.782798Z",
     "shell.execute_reply": "2023-04-28T23:13:31.781565Z",
     "shell.execute_reply.started": "2023-04-28T23:13:31.774646Z"
    },
    "id": "-NBxH2AV7VDl"
   },
   "outputs": [],
   "source": [
    "x_CV, x_train , y_CV , y_train = train_test_split(X, Y, train_size=0.25, random_state=1) "
   ]
  },
  {
   "cell_type": "code",
   "execution_count": 77,
   "metadata": {
    "colab": {
     "base_uri": "https://localhost:8080/"
    },
    "execution": {
     "iopub.execute_input": "2023-04-28T23:13:31.784676Z",
     "iopub.status.busy": "2023-04-28T23:13:31.784288Z",
     "iopub.status.idle": "2023-04-28T23:13:31.795684Z",
     "shell.execute_reply": "2023-04-28T23:13:31.794482Z",
     "shell.execute_reply.started": "2023-04-28T23:13:31.784637Z"
    },
    "id": "90etEkx87VF4",
    "outputId": "15500160-7c8b-45bc-b254-041ca227b705"
   },
   "outputs": [
    {
     "name": "stdout",
     "output_type": "stream",
     "text": [
      "shape of x_train:  (303, 13)\n",
      "shape of y_train:  (303,)\n",
      "shape of x_CV: (101, 13)\n",
      "shape of y_CV: (101,)\n"
     ]
    }
   ],
   "source": [
    "print(\"shape of x_train: \",x_train.shape)\n",
    "print(\"shape of y_train: \",y_train.shape)\n",
    "\n",
    "print(\"shape of x_CV:\",x_CV.shape) ## cross validation for choosing the best model\n",
    "print(\"shape of y_CV:\",y_CV.shape)"
   ]
  },
  {
   "cell_type": "code",
   "execution_count": 78,
   "metadata": {
    "execution": {
     "iopub.execute_input": "2023-04-28T23:13:31.811179Z",
     "iopub.status.busy": "2023-04-28T23:13:31.810696Z",
     "iopub.status.idle": "2023-04-28T23:16:16.057776Z",
     "shell.execute_reply": "2023-04-28T23:16:16.056106Z",
     "shell.execute_reply.started": "2023-04-28T23:13:31.811102Z"
    },
    "id": "4jisAzbv7VLM"
   },
   "outputs": [],
   "source": [
    "# Initialize Some Lists for Training errors ,CV errors , Models and Scalers\n",
    "Train_Mean_Sqaure_Error = []                \n",
    "CV_Mean_Sqaure_Error = []        \n",
    "models = []               \n",
    "scalers = []      # this list for saving the Z-Score Normalization for Each Model\n",
    "\n",
    "# Loop over 10 times. Each adding one more degree of polynomial higher than the last.\n",
    "# we will try 10 different polynomial models starting with degree=1 , ending with degree=10 , to choose the best model.\n",
    "# we will choose the best model depending on the model which will give the least Cross Validation Error. \n",
    "\n",
    "for degree in range(1,11):\n",
    "    \n",
    "    # Add polynomial features to the training set\n",
    "    polynomial = PolynomialFeatures(degree, include_bias=False)\n",
    "    X_train_polynomial = polynomial.fit_transform(x_train)\n",
    "    \n",
    "    # Applying Z- Score Normalization\n",
    "    scaler_polynomial = StandardScaler()  \n",
    "    X_train_polynomial_scaled = scaler_polynomial.fit_transform(X_train_polynomial)\n",
    "    scalers.append(scaler_polynomial) # saving scaler to use is for applying Z-Score Normalization on test data later\n",
    "    \n",
    "    # Create and train the model\n",
    "    model = LinearRegression()              \n",
    "    model.fit(X_train_polynomial_scaled, y_train )\n",
    "    models.append(model) # Saving model, to use it for testing later\n",
    "    \n",
    "    # Compute the training Mean Sqaure Error\n",
    "    yhat = model.predict(X_train_polynomial_scaled)\n",
    "    training_error = mean_squared_error(y_train,yhat) / 2\n",
    "    Train_Mean_Sqaure_Error.append(training_error)\n",
    "    \n",
    "    # Add polynomial features and scale the cross validation data set\n",
    "    polynomial = PolynomialFeatures(degree, include_bias=False)\n",
    "    X_cv_polynomial = polynomial.fit_transform(x_CV) ## x_test؟؟\n",
    "    X_cv_polynomial_scaled = scaler_polynomial.transform(X_cv_polynomial)\n",
    "    \n",
    "    # Compute the cross validation MSE\n",
    "    yhat = model.predict(X_cv_polynomial_scaled)\n",
    "    cross_validation_error = mean_squared_error(y_CV, yhat) / 2\n",
    "    CV_Mean_Sqaure_Error.append(cross_validation_error)"
   ]
  },
  {
   "cell_type": "code",
   "execution_count": 79,
   "metadata": {
    "execution": {
     "iopub.execute_input": "2023-04-28T23:16:16.060896Z",
     "iopub.status.busy": "2023-04-28T23:16:16.059796Z",
     "iopub.status.idle": "2023-04-28T23:16:16.071396Z",
     "shell.execute_reply": "2023-04-28T23:16:16.069760Z",
     "shell.execute_reply.started": "2023-04-28T23:16:16.060827Z"
    },
    "id": "ZrC-9tgyECtF"
   },
   "outputs": [
    {
     "name": "stdout",
     "output_type": "stream",
     "text": [
      "Mean Square Error of Training Data Set:  [10.828457417154716, 2.448273543591251, 7.898799690162331e-25, 7.885715130298572e-26, 1.0713940809797746e-25, 1.9286691695036924e-25, 1.5808310015598988e-24, 6.659945968889613e-25, 2.7471471036975898e-24, 6.087275835271437e-24]\n",
      "\n",
      "Mean Square Error of Cross Validation Data Set:  [12.080071416116233, 8.867365808883525, 2902.9063327428166, 677.4995655241324, 315.4520569427517, 221.09969725069686, 201.70846086199975, 209.2742472193537, 233.378224946912, 272.15957980860475]\n"
     ]
    }
   ],
   "source": [
    "print(\"Mean Square Error of Training Data Set: \",Train_Mean_Sqaure_Error)\n",
    "print()\n",
    "print(\"Mean Square Error of Cross Validation Data Set: \",CV_Mean_Sqaure_Error)"
   ]
  },
  {
   "cell_type": "code",
   "execution_count": 80,
   "metadata": {
    "execution": {
     "iopub.execute_input": "2023-04-28T23:35:26.288136Z",
     "iopub.status.busy": "2023-04-28T23:35:26.287654Z",
     "iopub.status.idle": "2023-04-28T23:35:26.477749Z",
     "shell.execute_reply": "2023-04-28T23:35:26.476325Z",
     "shell.execute_reply.started": "2023-04-28T23:35:26.288094Z"
    },
    "id": "123UzWx4EDKe"
   },
   "outputs": [
    {
     "data": {
      "text/plain": [
       "[<matplotlib.lines.Line2D at 0x27e23e8ea30>]"
      ]
     },
     "execution_count": 80,
     "metadata": {},
     "output_type": "execute_result"
    },
    {
     "data": {
      "image/png": "[encoded data removed]",
      "text/plain": [
       "<Figure size 640x480 with 1 Axes>"
      ]
     },
     "metadata": {},
     "output_type": "display_data"
    }
   ],
   "source": [
    "degrees=np.arange(10)+1\n",
    "plt.xlabel(\"degree\")\n",
    "plt.ylabel(\"Training Error\")\n",
    "plt.plot(degrees,Train_Mean_Sqaure_Error)"
   ]
  },
  {
   "cell_type": "code",
   "execution_count": 81,
   "metadata": {
    "execution": {
     "iopub.execute_input": "2023-04-28T23:32:19.356614Z",
     "iopub.status.busy": "2023-04-28T23:32:19.356101Z",
     "iopub.status.idle": "2023-04-28T23:32:19.365401Z",
     "shell.execute_reply": "2023-04-28T23:32:19.363833Z",
     "shell.execute_reply.started": "2023-04-28T23:32:19.356572Z"
    }
   },
   "outputs": [
    {
     "name": "stdout",
     "output_type": "stream",
     "text": [
      "Minimum Value Of Cross Validation Error:  8.867365808883525\n",
      "Index Of Minimum Value Of Cross Validation Error:  1\n"
     ]
    }
   ],
   "source": [
    "Min_Index = np.argmin(CV_Mean_Sqaure_Error)\n",
    "print(\"Minimum Value Of Cross Validation Error: \",np.min(CV_Mean_Sqaure_Error))\n",
    "print(\"Index Of Minimum Value Of Cross Validation Error: \",Min_Index)      "
   ]
  },
  {
   "cell_type": "code",
   "execution_count": 82,
   "metadata": {
    "execution": {
     "iopub.execute_input": "2023-04-28T23:42:51.909360Z",
     "iopub.status.busy": "2023-04-28T23:42:51.908865Z",
     "iopub.status.idle": "2023-04-28T23:42:51.927670Z",
     "shell.execute_reply": "2023-04-28T23:42:51.925893Z",
     "shell.execute_reply.started": "2023-04-28T23:42:51.909317Z"
    }
   },
   "outputs": [
    {
     "name": "stdout",
     "output_type": "stream",
     "text": [
      "Training Error: 2.45\n",
      "Cross Validation Error: 8.87\n",
      "Test Error: 5.77\n"
     ]
    }
   ],
   "source": [
    "polynomial = PolynomialFeatures(Min_Index+1, include_bias=False) \n",
    "X_test_polynomial = polynomial.fit_transform(x_test)  \n",
    "\n",
    "# Apply Z-Score Normalization\n",
    "X_test_polynomial_scaled = scalers[Min_Index].transform(X_test_polynomial)\n",
    "\n",
    "# Compute the test MSE\n",
    "yhat = models[Min_Index].predict(X_test_polynomial_scaled)\n",
    "test_error = mean_squared_error(y_test, yhat) / 2\n",
    "\n",
    "print(f\"Training Error: {Train_Mean_Sqaure_Error[Min_Index]:.2f}\")\n",
    "print(f\"Cross Validation Error: {CV_Mean_Sqaure_Error[Min_Index]:.2f}\")\n",
    "print(f\"Test Error: {test_error:.2f}\")"
   ]
  },
  {
   "cell_type": "code",
   "execution_count": 92,
   "metadata": {
    "execution": {
     "iopub.execute_input": "2023-04-28T23:44:16.016267Z",
     "iopub.status.busy": "2023-04-28T23:44:16.015738Z",
     "iopub.status.idle": "2023-04-28T23:44:16.023887Z",
     "shell.execute_reply": "2023-04-28T23:44:16.022786Z",
     "shell.execute_reply.started": "2023-04-28T23:44:16.016214Z"
    }
   },
   "outputs": [
    {
     "name": "stdout",
     "output_type": "stream",
     "text": [
      "accuracy: 86.13557736967185\n"
     ]
    }
   ],
   "source": [
    "accuracy= r2_score(y_test,yhat)*100\n",
    "print(\"accuracy:\",accuracy)"
   ]
  },
  {
   "cell_type": "code",
   "execution_count": null,
   "metadata": {},
   "outputs": [],
   "source": []
  }
 ],
 "metadata": {
  "accelerator": "GPU",
  "colab": {
   "provenance": []
  },
  "gpuClass": "standard",
  "kernelspec": {
   "display_name": "Python 3 (ipykernel)",
   "language": "python",
   "name": "python3"
  },
  "language_info": {
   "codemirror_mode": {
    "name": "ipython",
    "version": 3
   },
   "file_extension": ".py",
   "mimetype": "text/x-python",
   "name": "python",
   "nbconvert_exporter": "python",
   "pygments_lexer": "ipython3",
   "version": "3.9.13"
  }
 },
 "nbformat": 4,
 "nbformat_minor": 4
}
